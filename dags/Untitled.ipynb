{
 "cells": [
  {
   "cell_type": "code",
   "execution_count": 7,
   "id": "83a161c5-85aa-4325-ba25-ad03d8efefa7",
   "metadata": {},
   "outputs": [],
   "source": [
    "def make_taxon_db():\n",
    "    import mp_dbmake as dbm\n",
    "    import mp_dbconfig as dbc\n",
    "    dbm.taxlist_method(dbc.tax_db, \"taxlist\", dbc.taxdump)"
   ]
  },
  {
   "cell_type": "code",
   "execution_count": 8,
   "id": "b1772af8-94da-46ea-a4c9-eab50c228b9e",
   "metadata": {},
   "outputs": [],
   "source": [
    "make_taxon_db()"
   ]
  },
  {
   "cell_type": "code",
   "execution_count": null,
   "id": "2880cf8e-313b-472d-9d3a-0b2e57e75968",
   "metadata": {},
   "outputs": [],
   "source": []
  }
 ],
 "metadata": {
  "kernelspec": {
   "display_name": "Python 3",
   "language": "python",
   "name": "python3"
  },
  "language_info": {
   "codemirror_mode": {
    "name": "ipython",
    "version": 3
   },
   "file_extension": ".py",
   "mimetype": "text/x-python",
   "name": "python",
   "nbconvert_exporter": "python",
   "pygments_lexer": "ipython3",
   "version": "3.6.9"
  }
 },
 "nbformat": 4,
 "nbformat_minor": 5
}
